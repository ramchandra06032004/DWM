{
 "cells": [
  {
   "cell_type": "code",
   "execution_count": 1,
   "metadata": {},
   "outputs": [
    {
     "name": "stdout",
     "output_type": "stream",
     "text": [
      "Cube:\n",
      " Region           North  South\n",
      "Product Time                 \n",
      "A       2023-Q1    100    150\n",
      "B       2023-Q2    120    180\n",
      "C       2023-Q3    200    220\n",
      "\n",
      "Roll-up (Summarize Sales across Products):\n",
      " Product\n",
      "A    250\n",
      "B    300\n",
      "C    420\n",
      "Name: Sales, dtype: int64\n",
      "\n",
      "Drill-down (Detailed Sales data for Product A):\n",
      "   Product Region     Time  Sales\n",
      "0       A  North  2023-Q1    100\n",
      "1       A  South  2023-Q1    150\n",
      "\n",
      "Slice (Sales data for Product A):\n",
      " Region   North  South\n",
      "Time                 \n",
      "2023-Q1    100    150\n",
      "\n",
      "Dice (Sales for Product A in North region):\n",
      "   Product Region     Time  Sales\n",
      "0       A  North  2023-Q1    100\n",
      "\n",
      "Pivot (Reoriented data):\n",
      " Product    A    B    C\n",
      "Region                \n",
      "North    100  120  200\n",
      "South    150  180  220\n"
     ]
    }
   ],
   "source": [
    "import pandas as pd\n",
    "\n",
    "# Data (simplified)\n",
    "data = {'Product': ['A', 'A', 'B', 'B', 'C', 'C'],\n",
    "        'Region': ['North', 'South', 'North', 'South', 'North', 'South'],\n",
    "        'Time': ['2023-Q1', '2023-Q1', '2023-Q2', '2023-Q2', '2023-Q3', '2023-Q3'],\n",
    "        'Sales': [100, 150, 120, 180, 200, 220]}\n",
    "\n",
    "df = pd.DataFrame(data)\n",
    "\n",
    "# Cube: Pivot Table (Mimicking Cube)\n",
    "cube = df.pivot_table(values='Sales', index=['Product', 'Time'], columns='Region', aggfunc='sum')\n",
    "\n",
    "# 1. Roll-up (Aggregate data from detailed to summarized level)\n",
    "rollup = df.groupby('Product')['Sales'].sum()\n",
    "\n",
    "# 2. Drill-down (More detailed level of data)\n",
    "drilldown = df[df['Product'] == 'A']  # Detailed data for Product A\n",
    "\n",
    "# 3. Slice (Select a single dimension to create a sub-cube)\n",
    "slice_data = cube.loc['A']  # Sales data for Product A\n",
    "\n",
    "# 4. Dice (Select two or more dimensions to create a sub-cube)\n",
    "dice_data = df[(df['Product'] == 'A') & (df['Region'] == 'North')]  # Sales for Product A in North region\n",
    "\n",
    "# 5. Pivot (Rotate the cube, reorienting the data)\n",
    "pivot_data = df.pivot_table(values='Sales', index='Region', columns='Product', aggfunc='sum')\n",
    "\n",
    "# Display results\n",
    "print(\"Cube:\\n\", cube)\n",
    "print(\"\\nRoll-up (Summarize Sales across Products):\\n\", rollup)\n",
    "print(\"\\nDrill-down (Detailed Sales data for Product A):\\n\", drilldown)\n",
    "print(\"\\nSlice (Sales data for Product A):\\n\", slice_data)\n",
    "print(\"\\nDice (Sales for Product A in North region):\\n\", dice_data)\n",
    "print(\"\\nPivot (Reoriented data):\\n\", pivot_data)"
   ]
  },
  {
   "cell_type": "code",
   "execution_count": 2,
   "metadata": {},
   "outputs": [],
   "source": [
    "data = {'Product': ['A', 'A', 'B', 'B', 'C', 'C'],\n",
    "        'Region': ['North', 'South', 'North', 'South', 'North', 'South'],\n",
    "        'Time': ['2023-Q1', '2023-Q1', '2023-Q2', '2023-Q2', '2023-Q3', '2023-Q3'],\n",
    "        'Sales': [100, 150, 120, 180, 200, 220]}"
   ]
  },
  {
   "cell_type": "code",
   "execution_count": 3,
   "metadata": {},
   "outputs": [],
   "source": [
    "df = pd.DataFrame(data)"
   ]
  },
  {
   "cell_type": "code",
   "execution_count": 4,
   "metadata": {},
   "outputs": [
    {
     "data": {
      "text/html": [
       "<div>\n",
       "<style scoped>\n",
       "    .dataframe tbody tr th:only-of-type {\n",
       "        vertical-align: middle;\n",
       "    }\n",
       "\n",
       "    .dataframe tbody tr th {\n",
       "        vertical-align: top;\n",
       "    }\n",
       "\n",
       "    .dataframe thead th {\n",
       "        text-align: right;\n",
       "    }\n",
       "</style>\n",
       "<table border=\"1\" class=\"dataframe\">\n",
       "  <thead>\n",
       "    <tr style=\"text-align: right;\">\n",
       "      <th></th>\n",
       "      <th>Product</th>\n",
       "      <th>Region</th>\n",
       "      <th>Time</th>\n",
       "      <th>Sales</th>\n",
       "    </tr>\n",
       "  </thead>\n",
       "  <tbody>\n",
       "    <tr>\n",
       "      <th>0</th>\n",
       "      <td>A</td>\n",
       "      <td>North</td>\n",
       "      <td>2023-Q1</td>\n",
       "      <td>100</td>\n",
       "    </tr>\n",
       "    <tr>\n",
       "      <th>1</th>\n",
       "      <td>A</td>\n",
       "      <td>South</td>\n",
       "      <td>2023-Q1</td>\n",
       "      <td>150</td>\n",
       "    </tr>\n",
       "    <tr>\n",
       "      <th>2</th>\n",
       "      <td>B</td>\n",
       "      <td>North</td>\n",
       "      <td>2023-Q2</td>\n",
       "      <td>120</td>\n",
       "    </tr>\n",
       "    <tr>\n",
       "      <th>3</th>\n",
       "      <td>B</td>\n",
       "      <td>South</td>\n",
       "      <td>2023-Q2</td>\n",
       "      <td>180</td>\n",
       "    </tr>\n",
       "    <tr>\n",
       "      <th>4</th>\n",
       "      <td>C</td>\n",
       "      <td>North</td>\n",
       "      <td>2023-Q3</td>\n",
       "      <td>200</td>\n",
       "    </tr>\n",
       "  </tbody>\n",
       "</table>\n",
       "</div>"
      ],
      "text/plain": [
       "  Product Region     Time  Sales\n",
       "0       A  North  2023-Q1    100\n",
       "1       A  South  2023-Q1    150\n",
       "2       B  North  2023-Q2    120\n",
       "3       B  South  2023-Q2    180\n",
       "4       C  North  2023-Q3    200"
      ]
     },
     "execution_count": 4,
     "metadata": {},
     "output_type": "execute_result"
    }
   ],
   "source": [
    "df.head()"
   ]
  },
  {
   "cell_type": "code",
   "execution_count": 5,
   "metadata": {},
   "outputs": [],
   "source": [
    "cube = df.pivot_table(values='Sales', index=['Product', 'Time'], columns='Region', aggfunc='sum')"
   ]
  },
  {
   "cell_type": "code",
   "execution_count": 6,
   "metadata": {},
   "outputs": [
    {
     "data": {
      "text/html": [
       "<div>\n",
       "<style scoped>\n",
       "    .dataframe tbody tr th:only-of-type {\n",
       "        vertical-align: middle;\n",
       "    }\n",
       "\n",
       "    .dataframe tbody tr th {\n",
       "        vertical-align: top;\n",
       "    }\n",
       "\n",
       "    .dataframe thead th {\n",
       "        text-align: right;\n",
       "    }\n",
       "</style>\n",
       "<table border=\"1\" class=\"dataframe\">\n",
       "  <thead>\n",
       "    <tr style=\"text-align: right;\">\n",
       "      <th></th>\n",
       "      <th>Region</th>\n",
       "      <th>North</th>\n",
       "      <th>South</th>\n",
       "    </tr>\n",
       "    <tr>\n",
       "      <th>Product</th>\n",
       "      <th>Time</th>\n",
       "      <th></th>\n",
       "      <th></th>\n",
       "    </tr>\n",
       "  </thead>\n",
       "  <tbody>\n",
       "    <tr>\n",
       "      <th>A</th>\n",
       "      <th>2023-Q1</th>\n",
       "      <td>100</td>\n",
       "      <td>150</td>\n",
       "    </tr>\n",
       "    <tr>\n",
       "      <th>B</th>\n",
       "      <th>2023-Q2</th>\n",
       "      <td>120</td>\n",
       "      <td>180</td>\n",
       "    </tr>\n",
       "    <tr>\n",
       "      <th>C</th>\n",
       "      <th>2023-Q3</th>\n",
       "      <td>200</td>\n",
       "      <td>220</td>\n",
       "    </tr>\n",
       "  </tbody>\n",
       "</table>\n",
       "</div>"
      ],
      "text/plain": [
       "Region           North  South\n",
       "Product Time                 \n",
       "A       2023-Q1    100    150\n",
       "B       2023-Q2    120    180\n",
       "C       2023-Q3    200    220"
      ]
     },
     "execution_count": 6,
     "metadata": {},
     "output_type": "execute_result"
    }
   ],
   "source": [
    "cube"
   ]
  },
  {
   "cell_type": "code",
   "execution_count": 8,
   "metadata": {},
   "outputs": [
    {
     "data": {
      "text/plain": [
       "Product\n",
       "A    250\n",
       "B    300\n",
       "C    420\n",
       "Name: Sales, dtype: int64"
      ]
     },
     "execution_count": 8,
     "metadata": {},
     "output_type": "execute_result"
    }
   ],
   "source": [
    "# 1. Roll-up (Aggregate data from detailed to summarized level)\n",
    "rollup = df.groupby('Product')['Sales'].sum()\n",
    "rollup"
   ]
  },
  {
   "cell_type": "code",
   "execution_count": 9,
   "metadata": {},
   "outputs": [
    {
     "data": {
      "text/html": [
       "<div>\n",
       "<style scoped>\n",
       "    .dataframe tbody tr th:only-of-type {\n",
       "        vertical-align: middle;\n",
       "    }\n",
       "\n",
       "    .dataframe tbody tr th {\n",
       "        vertical-align: top;\n",
       "    }\n",
       "\n",
       "    .dataframe thead th {\n",
       "        text-align: right;\n",
       "    }\n",
       "</style>\n",
       "<table border=\"1\" class=\"dataframe\">\n",
       "  <thead>\n",
       "    <tr style=\"text-align: right;\">\n",
       "      <th></th>\n",
       "      <th>Product</th>\n",
       "      <th>Region</th>\n",
       "      <th>Time</th>\n",
       "      <th>Sales</th>\n",
       "    </tr>\n",
       "  </thead>\n",
       "  <tbody>\n",
       "    <tr>\n",
       "      <th>0</th>\n",
       "      <td>A</td>\n",
       "      <td>North</td>\n",
       "      <td>2023-Q1</td>\n",
       "      <td>100</td>\n",
       "    </tr>\n",
       "    <tr>\n",
       "      <th>1</th>\n",
       "      <td>A</td>\n",
       "      <td>South</td>\n",
       "      <td>2023-Q1</td>\n",
       "      <td>150</td>\n",
       "    </tr>\n",
       "  </tbody>\n",
       "</table>\n",
       "</div>"
      ],
      "text/plain": [
       "  Product Region     Time  Sales\n",
       "0       A  North  2023-Q1    100\n",
       "1       A  South  2023-Q1    150"
      ]
     },
     "execution_count": 9,
     "metadata": {},
     "output_type": "execute_result"
    }
   ],
   "source": [
    "# 2. Drill-down (More detailed level of data)\n",
    "drilldown = df[df['Product'] == 'A']  # Detailed data for Product A\n",
    "drilldown"
   ]
  },
  {
   "cell_type": "code",
   "execution_count": 10,
   "metadata": {},
   "outputs": [
    {
     "data": {
      "text/html": [
       "<div>\n",
       "<style scoped>\n",
       "    .dataframe tbody tr th:only-of-type {\n",
       "        vertical-align: middle;\n",
       "    }\n",
       "\n",
       "    .dataframe tbody tr th {\n",
       "        vertical-align: top;\n",
       "    }\n",
       "\n",
       "    .dataframe thead th {\n",
       "        text-align: right;\n",
       "    }\n",
       "</style>\n",
       "<table border=\"1\" class=\"dataframe\">\n",
       "  <thead>\n",
       "    <tr style=\"text-align: right;\">\n",
       "      <th>Region</th>\n",
       "      <th>North</th>\n",
       "      <th>South</th>\n",
       "    </tr>\n",
       "    <tr>\n",
       "      <th>Time</th>\n",
       "      <th></th>\n",
       "      <th></th>\n",
       "    </tr>\n",
       "  </thead>\n",
       "  <tbody>\n",
       "    <tr>\n",
       "      <th>2023-Q1</th>\n",
       "      <td>100</td>\n",
       "      <td>150</td>\n",
       "    </tr>\n",
       "  </tbody>\n",
       "</table>\n",
       "</div>"
      ],
      "text/plain": [
       "Region   North  South\n",
       "Time                 \n",
       "2023-Q1    100    150"
      ]
     },
     "execution_count": 10,
     "metadata": {},
     "output_type": "execute_result"
    }
   ],
   "source": [
    "slice_data = cube.loc['A']  # Sales data for Product A\n",
    "slice_data"
   ]
  },
  {
   "cell_type": "code",
   "execution_count": null,
   "metadata": {},
   "outputs": [],
   "source": []
  }
 ],
 "metadata": {
  "kernelspec": {
   "display_name": "Python 3",
   "language": "python",
   "name": "python3"
  },
  "language_info": {
   "codemirror_mode": {
    "name": "ipython",
    "version": 3
   },
   "file_extension": ".py",
   "mimetype": "text/x-python",
   "name": "python",
   "nbconvert_exporter": "python",
   "pygments_lexer": "ipython3",
   "version": "3.12.3"
  }
 },
 "nbformat": 4,
 "nbformat_minor": 2
}
